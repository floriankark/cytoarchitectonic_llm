{
 "cells": [
  {
   "cell_type": "code",
   "execution_count": 4,
   "metadata": {},
   "outputs": [
    {
     "name": "stderr",
     "output_type": "stream",
     "text": [
      "Verarbeitung der PDF-Dateien: 100%|██████████| 38/38 [05:46<00:00,  9.12s/it]\n"
     ]
    }
   ],
   "source": [
    "import pymupdf4llm\n",
    "import pathlib\n",
    "import os\n",
    "from tqdm import tqdm\n",
    "\n",
    "# Verzeichnis mit PDF-Dateien\n",
    "pdf_folder = \"../data/raw/zyto/paper/\"\n",
    "# Verzeichnis für die Markdown-Dateien\n",
    "output_folder = \"../data/processed/zyto/paper/\"\n",
    "\n",
    "# Erstellen des Ausgabeordners, falls nicht vorhanden\n",
    "pathlib.Path(output_folder).mkdir(parents=True, exist_ok=True)\n",
    "\n",
    "# Durchlaufen aller PDF-Dateien im Verzeichnis\n",
    "pdf_files = [f for f in os.listdir(pdf_folder) if f.endswith(\".pdf\")]\n",
    "for pdf_file in tqdm(pdf_files, desc=\"Verarbeitung der PDF-Dateien\"):\n",
    "    pdf_path = os.path.join(pdf_folder, pdf_file)\n",
    "    md_text = pymupdf4llm.to_markdown(pdf_path, \n",
    "                                      write_images=False, \n",
    "                                      force_text=True,\n",
    "                                      table_strategy=\"lines\",\n",
    "                                      show_progress=False)\n",
    "    \n",
    "    # Speichern der Markdown-Datei\n",
    "    md_filename = os.path.splitext(pdf_file)[0] + \".md\"\n",
    "    md_path = os.path.join(output_folder, md_filename)\n",
    "    pathlib.Path(md_path).write_bytes(md_text.encode())"
   ]
  }
 ],
 "metadata": {
  "kernelspec": {
   "display_name": ".venv",
   "language": "python",
   "name": "python3"
  },
  "language_info": {
   "codemirror_mode": {
    "name": "ipython",
    "version": 3
   },
   "file_extension": ".py",
   "mimetype": "text/x-python",
   "name": "python",
   "nbconvert_exporter": "python",
   "pygments_lexer": "ipython3",
   "version": "3.12.1"
  }
 },
 "nbformat": 4,
 "nbformat_minor": 2
}
