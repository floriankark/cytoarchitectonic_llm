{
 "cells": [
  {
   "cell_type": "code",
   "execution_count": 5,
   "metadata": {},
   "outputs": [],
   "source": [
    "%%capture\n",
    "!git clone https://github.com/monk1337/resp.git\n",
    "\n",
    "# Next upgrade PyYAML==6.0 to PyYAML==6.0.1 to fix an os bug if you are on mac"
   ]
  },
  {
   "cell_type": "code",
   "execution_count": 1,
   "metadata": {},
   "outputs": [],
   "source": [
    "%%capture\n",
    "!pip3 install -r ./resp/requirements.txt"
   ]
  },
  {
   "cell_type": "code",
   "execution_count": 2,
   "metadata": {},
   "outputs": [
    {
     "name": "stdout",
     "output_type": "stream",
     "text": [
      "/Users/floriankark/Desktop/cytoarchitectonic_llm/notebooks/resp\n"
     ]
    },
    {
     "name": "stderr",
     "output_type": "stream",
     "text": [
      "/Users/floriankark/Desktop/cytoarchitectonic_llm/.venv/lib/python3.12/site-packages/IPython/core/magics/osm.py:417: UserWarning: This is now an optional IPython functionality, setting dhist requires you to install the `pickleshare` library.\n",
      "  self.shell.db['dhist'] = compress_dhist(dhist)[-100:]\n"
     ]
    }
   ],
   "source": [
    "%cd ./resp/"
   ]
  },
  {
   "cell_type": "code",
   "execution_count": 5,
   "metadata": {},
   "outputs": [],
   "source": [
    "from resp.apis.serp_api import Serp\n",
    "from resp.apis.cnnp import connected_papers\n",
    "from resp.apis.semantic_s import Semantic_Scholar\n",
    "from resp.apis.acm_api import ACM\n",
    "from resp.apis.arxiv_api import Arxiv\n",
    "from resp.resp import Resp\n"
   ]
  },
  {
   "cell_type": "code",
   "execution_count": 12,
   "metadata": {},
   "outputs": [],
   "source": [
    "Paper_names = ['cytoarchitectonic']\n",
    "keyword     = ['cytoarchitectonic']"
   ]
  },
  {
   "cell_type": "code",
   "execution_count": 15,
   "metadata": {},
   "outputs": [
    {
     "name": "stderr",
     "output_type": "stream",
     "text": [
      "100%|██████████| 1/1 [00:05<00:00,  5.41s/it]\n"
     ]
    }
   ],
   "source": [
    "ap           = Arxiv()\n",
    "arxiv_result = ap.arxiv('cytoarchitectonic', max_pages = 1)"
   ]
  },
  {
   "cell_type": "code",
   "execution_count": 16,
   "metadata": {},
   "outputs": [
    {
     "data": {
      "text/html": [
       "<div>\n",
       "<style scoped>\n",
       "    .dataframe tbody tr th:only-of-type {\n",
       "        vertical-align: middle;\n",
       "    }\n",
       "\n",
       "    .dataframe tbody tr th {\n",
       "        vertical-align: top;\n",
       "    }\n",
       "\n",
       "    .dataframe thead th {\n",
       "        text-align: right;\n",
       "    }\n",
       "</style>\n",
       "<table border=\"1\" class=\"dataframe\">\n",
       "  <thead>\n",
       "    <tr style=\"text-align: right;\">\n",
       "      <th></th>\n",
       "      <th>title</th>\n",
       "      <th>link</th>\n",
       "    </tr>\n",
       "  </thead>\n",
       "  <tbody>\n",
       "    <tr>\n",
       "      <th>0</th>\n",
       "      <td>Denoising Diffusion Probabilistic Models for I...</td>\n",
       "      <td>https://arxiv.org/abs/2311.16821</td>\n",
       "    </tr>\n",
       "    <tr>\n",
       "      <th>1</th>\n",
       "      <td>Structural Correlates Of Spatial Navigation An...</td>\n",
       "      <td>https://arxiv.org/abs/2203.13434</td>\n",
       "    </tr>\n",
       "    <tr>\n",
       "      <th>2</th>\n",
       "      <td>2D histology meets 3D topology: Cytoarchitecto...</td>\n",
       "      <td>https://arxiv.org/abs/2103.05259</td>\n",
       "    </tr>\n",
       "    <tr>\n",
       "      <th>3</th>\n",
       "      <td>Convolutional Neural Networks for cytoarchitec...</td>\n",
       "      <td>https://arxiv.org/abs/2011.12857</td>\n",
       "    </tr>\n",
       "    <tr>\n",
       "      <th>4</th>\n",
       "      <td>Contrastive Representation Learning for Whole ...</td>\n",
       "      <td>https://arxiv.org/abs/2011.12865</td>\n",
       "    </tr>\n",
       "  </tbody>\n",
       "</table>\n",
       "</div>"
      ],
      "text/plain": [
       "                                               title                              link\n",
       "0  Denoising Diffusion Probabilistic Models for I...  https://arxiv.org/abs/2311.16821\n",
       "1  Structural Correlates Of Spatial Navigation An...  https://arxiv.org/abs/2203.13434\n",
       "2  2D histology meets 3D topology: Cytoarchitecto...  https://arxiv.org/abs/2103.05259\n",
       "3  Convolutional Neural Networks for cytoarchitec...  https://arxiv.org/abs/2011.12857\n",
       "4  Contrastive Representation Learning for Whole ...  https://arxiv.org/abs/2011.12865"
      ]
     },
     "execution_count": 16,
     "metadata": {},
     "output_type": "execute_result"
    }
   ],
   "source": [
    "arxiv_result.head(5)"
   ]
  }
 ],
 "metadata": {
  "kernelspec": {
   "display_name": ".venv",
   "language": "python",
   "name": "python3"
  },
  "language_info": {
   "codemirror_mode": {
    "name": "ipython",
    "version": 3
   },
   "file_extension": ".py",
   "mimetype": "text/x-python",
   "name": "python",
   "nbconvert_exporter": "python",
   "pygments_lexer": "ipython3",
   "version": "3.12.1"
  }
 },
 "nbformat": 4,
 "nbformat_minor": 2
}
